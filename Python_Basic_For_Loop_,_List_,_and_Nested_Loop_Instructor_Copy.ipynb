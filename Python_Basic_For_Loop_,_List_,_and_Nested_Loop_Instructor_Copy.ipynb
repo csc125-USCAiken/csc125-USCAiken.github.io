{
  "nbformat": 4,
  "nbformat_minor": 0,
  "metadata": {
    "colab": {
      "name": "Python Basic - For Loop , List , and Nested Loop -- Instructor Copy",
      "provenance": [],
      "private_outputs": true,
      "collapsed_sections": [
        "5isYToMm9bRb",
        "jOw0k58vYwIf"
      ],
      "toc_visible": true,
      "authorship_tag": "ABX9TyO/xgTpixFbZVzeH3zvM8bi",
      "include_colab_link": true
    },
    "kernelspec": {
      "name": "python3",
      "display_name": "Python 3"
    }
  },
  "cells": [
    {
      "cell_type": "markdown",
      "metadata": {
        "id": "view-in-github",
        "colab_type": "text"
      },
      "source": [
        "<a href=\"https://colab.research.google.com/github/csc125-USCAiken/csc125-USCAiken.github.io/blob/master/Python_Basic_For_Loop_%2C_List_%2C_and_Nested_Loop_Instructor_Copy.ipynb\" target=\"_parent\"><img src=\"https://colab.research.google.com/assets/colab-badge.svg\" alt=\"Open In Colab\"/></a>"
      ]
    },
    {
      "cell_type": "markdown",
      "metadata": {
        "id": "GXQb0w1W7C3y"
      },
      "source": [
        "# Review:  For Loop\n",
        "Iteration/loops: perform these same repeated tasks​\n",
        "\n",
        "```\n",
        "#Repeat a statement five times\n",
        "\n",
        "for _ in range(5):\n",
        "  print('great')\n",
        "\n",
        "#Control Variable that goes through a list.\n",
        "#Print each number\n",
        "for x in range(1,10,3)\n",
        "  print(x)\n",
        "\n",
        "#Add the number to sum\n",
        "sum = 0\n",
        "for i in range(100,200,10)\n",
        "  sum = sum + i \n",
        "print(sum)\n",
        "```\n",
        "\n"
      ]
    },
    {
      "cell_type": "markdown",
      "metadata": {
        "id": "iWDJHtuGCQet"
      },
      "source": [
        "Review Practice:\n",
        "* Find $\\frac{1}{2} + \\frac{1}{4}+\\frac{1}{6}+...\\frac{1}{100000}$ \n",
        "\n",
        "* Find $ (\\frac{1}{2})+(\\frac{1}{2})^2 + (\\frac{1}{2})^3 + ....+(\\frac{1}{2})^{20}$\n",
        "\n",
        "* (Challenge Question) Find $4(1-\\frac{1}{3}+\\frac{1}{5}-\\frac{1}{7}+\\frac{1}{9}.... -\\frac{1}{9999999})$\n",
        "\n"
      ]
    },
    {
      "cell_type": "code",
      "metadata": {
        "id": "zPMHZD4OCNlx"
      },
      "source": [
        "sum = 0 \n",
        "for i in range(2,100001,2):\n",
        "  sum += 1.0/i\n",
        "print(f'{sum : .3f}')"
      ],
      "execution_count": null,
      "outputs": []
    },
    {
      "cell_type": "code",
      "metadata": {
        "id": "vR8eBCArERm_"
      },
      "source": [
        "sum = 0\n",
        "sign = 1 \n",
        "for i in range(1,10000000,2):\n",
        "  sum += (1.0/i) * sign\n",
        "  sign = sign * (-1)\n",
        "print(f'{4*sum : .9f}')"
      ],
      "execution_count": null,
      "outputs": []
    },
    {
      "cell_type": "markdown",
      "metadata": {
        "id": "5isYToMm9bRb"
      },
      "source": [
        "# Python Lists​\n",
        "\n",
        "A “package” or a group of other values​\n",
        "\n",
        "```\n",
        ">>> toDoList = ['Buy milk','Do hw', 'watch TV','pay bill'] ​\n",
        "\n",
        ">>> oddNumbers = [1 , 3 , 5 , 7 , 9 , 11]\n",
        "```\n",
        "\n",
        "​"
      ]
    },
    {
      "cell_type": "markdown",
      "metadata": {
        "id": "3GCTU6cd9nUg"
      },
      "source": [
        "## Python Lists -- Length and members\n",
        "\n",
        "* Length of Lists  --- Build in function  len​\n",
        "```\n",
        ">>> len(toDoList)​\n",
        "4​\n",
        "```\n",
        "\n",
        "* Access the list  ( index starts at 0 )​\n",
        "```\n",
        ">>> toDoList[0]​\n",
        "'Buy milk'​\n",
        ">>> toDoList[1]​\n",
        "'Do hw'\n",
        "```\n",
        "\n"
      ]
    },
    {
      "cell_type": "markdown",
      "metadata": {
        "id": "8pW-0GSh-ixX"
      },
      "source": [
        "## Python List operation +\n",
        "  \"+\"     ------ concatenation ​\n",
        "```\n",
        ">>> toDoList = ['Buy milk','Do hw', 'watch TV','pay bill']​\n",
        ">>> newList = ['prepare exam I', 'exercise']​\n",
        ">>> toDoList + newList​\n",
        "['Buy milk', 'Do hw', 'watch TV', 'pay bill', 'prepare exam I', 'exercise']​\n",
        ">>> toDoList + newList​\n",
        "['Buy milk', 'Do hw', 'watch TV', 'pay bill', 'prepare exam I', 'exercise']\n",
        "```"
      ]
    },
    {
      "cell_type": "markdown",
      "metadata": {
        "id": "9IlFiDfa_QhJ"
      },
      "source": [
        "## Python Lists:  Slice\n",
        "Find the to do list items from 3  up to 6 (** NOT including index 6)​\n",
        "```\n",
        ">>> toDoList[3:6]​\n",
        "\n",
        "['pay bill', 'prepare exam I', 'exercise'] ​\n",
        "```\n",
        "All items from index 1 to the end​\n",
        "```\n",
        ">>> toDoList[1:]​\n",
        "\n",
        "['Do hw', 'watch TV', 'pay bill', 'prepare exam I', 'exercise']​\n",
        "```\n",
        "All items from beginning to index 4​\n",
        "```\n",
        ">>> toDoList[:4]​\n",
        "\n",
        "['Buy milk', 'Do hw', 'watch TV', 'pay bill']\n",
        "```\n"
      ]
    },
    {
      "cell_type": "markdown",
      "metadata": {
        "id": "wDW9Yq3x_6cD"
      },
      "source": [
        "## Python list : remove item, insert item, replace item. \n",
        "Change my second to do list item to  “watch youtube”​\n",
        "```\n",
        "toDoList[1] = “watch youtube”\n",
        "```\n",
        "Finish the first two do list items​\n",
        "```\n",
        ">>> toDoList[:2] = []​\n",
        "\n",
        ">>> toDoList​\n",
        "\n",
        "['watch TV', 'pay bill', 'prepare exam I', 'exercise']​\n",
        "```\n",
        "Insert a new item at index 1​\n",
        "```\n",
        ">>> toDoList[1:1]=['not sure']​\n",
        "\n",
        ">>> toDoList​\n",
        "\n",
        "['watch TV', 'not sure', 'pay bill', 'prepare exam I', 'exercise']\n",
        "```\n",
        "Append a new item to the end of the list \n",
        "```\n",
        ">>> list = [1,2,3,4]\n",
        ">>> list.append(5)\n",
        ">>> list\n",
        "[1, 2, 3, 4, 5]\n",
        "```"
      ]
    },
    {
      "cell_type": "markdown",
      "metadata": {
        "id": "JEszUwomCYQT"
      },
      "source": [
        "# For Loop with list\n",
        "    Repeat the following four times:​\n",
        "\n",
        "            Display a prompt to the user;​\n",
        "\n",
        "            Obtain the user’s input; and​\n",
        "\n",
        "            Record the user’s answer to a list.\n"
      ]
    },
    {
      "cell_type": "code",
      "metadata": {
        "id": "2RrspsCPCh3q"
      },
      "source": [
        "artists = []\n",
        "for i in [0, 1, 2]:\n",
        "  next_artist = input(\"Enter an artist that you like:  \")\n",
        "  artists.append(next_artist)\n",
        "print(f'Thanks you! We will work on your recommendation {artists}')"
      ],
      "execution_count": null,
      "outputs": []
    },
    {
      "cell_type": "markdown",
      "metadata": {
        "id": "FJNMhAgdDgt0"
      },
      "source": [
        "Repeated task:\n",
        "  \n",
        "  Example: Display the member of a given list\n"
      ]
    },
    {
      "cell_type": "code",
      "metadata": {
        "id": "S9CyArXyD27y"
      },
      "source": [
        "# display the following todo list \n",
        "\n",
        "todolist = ['watch TV', 'pay bill', 'prepare exam I', 'exercise']​\n"
      ],
      "execution_count": null,
      "outputs": []
    },
    {
      "cell_type": "code",
      "metadata": {
        "id": "4JUODlrnF2aD"
      },
      "source": [
        "# display the following to do list with order \n",
        "# Your task: \n",
        "# 1. watch TV\n",
        "# 2. pay bill  .....\n",
        "\n",
        "todolist = ['watch TV', 'pay bill', 'prepare exam I', 'exercise']​"
      ],
      "execution_count": null,
      "outputs": []
    },
    {
      "cell_type": "code",
      "metadata": {
        "id": "LYo-83TpFCuc"
      },
      "source": [
        "# Display the prime numbers less than 100\n",
        "primenumber = [2, 3, 5, 7, 11, 13, 17, 19, 23, 29, 31, 37, 41, 43, 47, 53, 59, 61, 67, 71, 73, 79, 83, 89, 97]\n",
        "\n"
      ],
      "execution_count": null,
      "outputs": []
    },
    {
      "cell_type": "markdown",
      "metadata": {
        "id": "WRcWcjgZGVQR"
      },
      "source": [
        "Example:  Sent a customized invitation message to a list of friends \n",
        "\n",
        "```\n",
        "friendlist = [\"Joe\", \"Zoe\", \"Brad\", \"Angelina\", \"Zuki\", \"Thandi\", \"Paris\"]\n",
        "```\n",
        "Your message will looks like \n",
        "\n",
        "\"Hi, Joe, Please come to my party on Saturday!\"\n",
        "\n"
      ]
    },
    {
      "cell_type": "code",
      "metadata": {
        "id": "OVFs9axEHSjb"
      },
      "source": [
        "for f in [\"Joe\", \"Zoe\", \"Brad\", \"Angelina\", \"Zuki\", \"Thandi\", \"Paris\"]:\n",
        "    invitation = \"Hi \" + f + \".  Please come to my party on Saturday!\"\n",
        "    print(invitation)"
      ],
      "execution_count": null,
      "outputs": []
    },
    {
      "cell_type": "markdown",
      "metadata": {
        "id": "J3t5FdkMHyqL"
      },
      "source": [
        "How about a customized admission letter?"
      ]
    },
    {
      "cell_type": "markdown",
      "metadata": {
        "id": "jOw0k58vYwIf"
      },
      "source": [
        "# Nested Loop\n",
        "\n",
        "(loop inside of a loop)\n",
        "\n",
        "Target: \n",
        "Example:  Write nested loop to print the following shape. ​\n",
        "```\n",
        "**********​\n",
        "\n",
        "**********​\n",
        "\n",
        "**********​\n",
        "\n",
        "**********​\n",
        "\n",
        "**********​\n",
        "```"
      ]
    },
    {
      "cell_type": "code",
      "metadata": {
        "id": "yoSHlbUAYg7C"
      },
      "source": [
        "Put your code here"
      ],
      "execution_count": null,
      "outputs": []
    },
    {
      "cell_type": "markdown",
      "metadata": {
        "id": "FHfcqqvmaL0j"
      },
      "source": [
        "Example: Print the following multiplication table \n",
        "```\n",
        "1x1=1    1x2=2   1x3=3   1x4=4   1x5=5   1x6=6   1x7=7   1x8=8   1x9=9  \n",
        "\n",
        "2x1=2    2x2=4   2x3=6   2x4=8   2x5=10  2x6=12  2x7=14  2x8=16  2x9=18  \n",
        "\n",
        "3x1=3    3x2=6   3x3=9   3x4=12  3x5=15  3x6=18  3x7=21  3x8=24  3x9=27  \n",
        "\n",
        "4x1=4    4x2=8   4x3=12  4x4=16  4x5=20  4x6=24  4x7=28  4x8=32  4x9=36  \n",
        "\n",
        "5x1=5    5x2=10  5x3=15  5x4=20  5x5=25  5x6=30  5x7=35  5x8=40  5x9=45  \n",
        "\n",
        "6x1=6    6x2=12  6x3=18  6x4=24  6x5=30  6x6=36  6x7=42  6x8=48  6x9=54  \n",
        "\n",
        "7x1=7    7x2=14  7x3=21  7x4=28  7x5=35  7x6=42  7x7=49  7x8=56  7x9=63  \n",
        "\n",
        "8x1=8    8x2=16  8x3=24  8x4=32  8x5=40  8x6=48  8x7=56  8x8=64  8x9=72  \n",
        "\n",
        "9x1=9    9x2=18  9x3=27  9x4=36  9x5=45  9x6=54  9x7=63  9x8=72  9x9=81\n",
        "```"
      ]
    },
    {
      "cell_type": "code",
      "metadata": {
        "id": "Myii98PzaZfo"
      },
      "source": [
        "for i in range(1,10):\n",
        "   for j in range(1,10):\n",
        "        ans = i * j \n",
        "        print(f\"{i}x{j}={ans}\\t\", end=\" \")\n",
        "   print()"
      ],
      "execution_count": null,
      "outputs": []
    },
    {
      "cell_type": "markdown",
      "metadata": {
        "id": "YMSVHTRoa1FF"
      },
      "source": [
        "What is the output of the following code?\n",
        "\n",
        "```\n",
        "for i in range(5):​\n",
        "\n",
        "    for j in range(i,5):​\n",
        "\n",
        "       print(\"*\",end=\"\")​\n",
        "\n",
        "    print() ​\n",
        "```\n"
      ]
    },
    {
      "cell_type": "markdown",
      "metadata": {
        "id": "O5knUhXqbGKR"
      },
      "source": [
        "What is the output of the following code?​\n",
        "\n",
        "```\n",
        "for i in range(5):​\n",
        "\n",
        "    for j in range(i+1):​\n",
        "\n",
        "       print(i,end=\"\")​\n",
        "\n",
        "    print() \n",
        "```"
      ]
    },
    {
      "cell_type": "markdown",
      "metadata": {
        "id": "Jj5wmOj6Hlj7"
      },
      "source": [
        "# Try it --- Group 1/3/5/7 Loop and List\n",
        "\n",
        "**Coder:** \n",
        "\n",
        "**Narrator:** \n",
        "\n",
        "**Observer:** \n",
        "\n",
        "Your objective for this exercise is to generate a customized congratualtion letter for a group of students.\n",
        "\n",
        "The following is the template of the letter:\n",
        "\n",
        "> Dear **Name**, \n",
        ">\n",
        ">I just heard the great news that you’ve been admitted to University of South Carolina Aiken Class of 2024! Congratulations! What a wonderful accomplishment and one so well deserved. You and your family should be proud.\n",
        ">\n",
        ">Again, **Name** , Welcome to USCA!\n",
        ">\n",
        ">Sincerely\n",
        ">\n",
        ">Andrew Hendrix\n",
        "\n",
        "The list of the student is \n",
        "\n",
        "Brianna, Zoe, Keith, James,Kate,Julius, Kevin, \n",
        "America,Ellis,Courtney,Zydairyn,Brielle \n"
      ]
    },
    {
      "cell_type": "code",
      "metadata": {
        "id": "BzrygFCzWt8U"
      },
      "source": [
        "# Put your code here"
      ],
      "execution_count": null,
      "outputs": []
    },
    {
      "cell_type": "markdown",
      "metadata": {
        "id": "VW6z6RhhW_UY"
      },
      "source": [
        "# Try it --- Group 2/4/6 Loop and List\n",
        "\n",
        "**Coder:** \n",
        "\n",
        "**Narrator:** \n",
        "\n",
        "**Observer:**\n",
        "\n",
        "Please generate the above letter for the following students:\n",
        "\n",
        "Anna, Hayden, Russell, Andrew, Chloe, Travis, Harold, Crystal, Harry \n"
      ]
    },
    {
      "cell_type": "code",
      "metadata": {
        "id": "aFn6sz9hZDUV"
      },
      "source": [
        "# Put your code here"
      ],
      "execution_count": null,
      "outputs": []
    },
    {
      "cell_type": "markdown",
      "metadata": {
        "id": "k_i-Y6Jjb5Ws"
      },
      "source": [
        "# Try it --- Group 1/3/5/7 Nested Loop\n",
        "\n",
        "Print all of the possible choices of throwing two dices using nested loop:\n",
        "```\n",
        "(1,1)    (1,2)   (1,3)   (1,4)   (1,5)   (1,6)   \n",
        "(2,1)    (2,2)   (2,3)   (2,4)   (2,5)   (2,6)   \n",
        "(3,1)    (3,2)   (3,3)   (3,4)   (3,5)   (3,6)   \n",
        "(4,1)    (4,2)   (4,3)   (4,4)   (4,5)   (4,6)   \n",
        "(5,1)    (5,2)   (5,3)   (5,4)   (5,5)   (5,6)   \n",
        "(6,1)    (6,2)   (6,3)   (6,4)   (6,5)   (6,6)   \n",
        "```\n",
        "\n"
      ]
    },
    {
      "cell_type": "code",
      "metadata": {
        "id": "jVCSMafgeQY7"
      },
      "source": [
        "# Put your code here"
      ],
      "execution_count": null,
      "outputs": []
    },
    {
      "cell_type": "markdown",
      "metadata": {
        "id": "ha9sxWD-cqFe"
      },
      "source": [
        "# Try it --- Group 2/4/6 Nested Loop\n",
        "\n",
        "Produce the following output using nested loop.\n",
        "\n",
        "```\n",
        "#        \n",
        "#        #       \n",
        "#        #       #       \n",
        "#        #       #       #       \n",
        "#        #       #       #       #       \n",
        "#        #       #       #       #       #       \n",
        "#        #       #       #       #       #       #       \n",
        "#        #       #       #       #       #       #       #       \n",
        "#        #       #       #       #       #       #       #       #  \n",
        "\n",
        "```\n",
        "\n"
      ]
    },
    {
      "cell_type": "code",
      "metadata": {
        "id": "tbOjwRnaeT91"
      },
      "source": [
        "# Put your code here"
      ],
      "execution_count": null,
      "outputs": []
    }
  ]
}