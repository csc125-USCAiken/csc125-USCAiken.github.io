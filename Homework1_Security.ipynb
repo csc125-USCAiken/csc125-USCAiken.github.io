{
  "nbformat": 4,
  "nbformat_minor": 0,
  "metadata": {
    "colab": {
      "name": "Homework1 -- Security",
      "provenance": [],
      "private_outputs": true,
      "collapsed_sections": [],
      "authorship_tag": "ABX9TyNU+mzGfQgIhWV1JX4dv0Pa",
      "include_colab_link": true
    },
    "kernelspec": {
      "name": "python3",
      "display_name": "Python 3"
    }
  },
  "cells": [
    {
      "cell_type": "markdown",
      "metadata": {
        "id": "view-in-github",
        "colab_type": "text"
      },
      "source": [
        "<a href=\"https://colab.research.google.com/github/csc125-USCAiken/csc125-USCAiken.github.io/blob/master/Homework1_Security.ipynb\" target=\"_parent\"><img src=\"https://colab.research.google.com/assets/colab-badge.svg\" alt=\"Open In Colab\"/></a>"
      ]
    },
    {
      "cell_type": "markdown",
      "metadata": {
        "id": "okUtGD7-0J55",
        "colab_type": "text"
      },
      "source": [
        "#Name: ___________________________"
      ]
    },
    {
      "cell_type": "markdown",
      "metadata": {
        "id": "v7qEGgezzVjE",
        "colab_type": "text"
      },
      "source": [
        "# Reading assignment 1 : Key Traits in Security Worker\n",
        "Please read section \"Key Traits in the Future of the Cyber Workforce\" from article [The Future Cybersecurity Workforce: Going Beyond Technical Skills for Successful Cyber Performance](https://www.frontiersin.org/articles/10.3389/fpsyg.2018.00744/full#h7). And then answer the following reading questions. "
      ]
    },
    {
      "cell_type": "markdown",
      "metadata": {
        "id": "PglEI-oNzs_W",
        "colab_type": "text"
      },
      "source": [
        "1. Why \"system thinkers\" is considered as a high valued key trait in cyber workforce?  Use your own words to write one paragraph response. "
      ]
    },
    {
      "cell_type": "markdown",
      "metadata": {
        "id": "StanDi0Jz7XC",
        "colab_type": "text"
      },
      "source": [
        "2. Reading Interview: Pair up with a classmate and interview them using the following question. "
      ]
    },
    {
      "cell_type": "markdown",
      "metadata": {
        "id": "7slXIvQ80EjT",
        "colab_type": "text"
      },
      "source": [
        "\n",
        "\n",
        "*   Who is the interviewee?\n",
        "\n",
        "\n",
        "\n",
        "*   Which key traits does he/she think is the most important and why? \n",
        "\n",
        "\n",
        "\n",
        "\n",
        "*  Please ask your interviewee to give him/her a score on each key trait. 0 - inaccurate, 2 - neutral, 4 - accurate\n",
        "\n",
        "\n",
        "\n",
        "\n"
      ]
    },
    {
      "cell_type": "markdown",
      "metadata": {
        "id": "UZSg0Xwi1XRv",
        "colab_type": "text"
      },
      "source": [
        "# Reading assignment 2: Security Assessment\n",
        "\n",
        "\n",
        "---\n",
        "\n",
        "\n",
        "Please read article [Security Mindset](https://github.com/csc125-USCAiken/Homework1/blob/master/securitymindset.pdf) and powerpoint lecture on CIA triad and then conduct a security assessment on websites or pocedures of your interest. \n",
        "\n",
        "\n"
      ]
    },
    {
      "cell_type": "markdown",
      "metadata": {
        "id": "H0WspMVV16Zv",
        "colab_type": "text"
      },
      "source": [
        "\n",
        " 1. Please write a short description about the system you evaluate.  If it is a website, please provide a link to the website. "
      ]
    },
    {
      "cell_type": "markdown",
      "metadata": {
        "id": "68zVA_z_19BW",
        "colab_type": "text"
      },
      "source": [
        " 2. Please rate the confidentiality of the system as low, moderate or high.  Explain.\n",
        "\n",
        "*   Who can access the data?\n",
        "\n",
        "\n",
        "*   What can they access?\n",
        "\n",
        "\n",
        "*   When/How can they access?\n",
        "\n",
        "\n",
        "*   Are there any confidentiality failures? \n",
        "\n",
        "\n",
        "\n",
        "\n"
      ]
    },
    {
      "cell_type": "markdown",
      "metadata": {
        "id": "i-BHYDhK2d3Z",
        "colab_type": "text"
      },
      "source": [
        "3. Please rate the integrity of the system as low, moderate or high.  Explain. \n",
        "\n",
        "\n",
        "*   Who can modify the data? \n",
        "\n",
        "*   What can they modify? \n",
        "\n",
        "*   How can they modify?\n",
        "\n",
        "*   Are there any integrity failures?\n",
        "\n"
      ]
    },
    {
      "cell_type": "markdown",
      "metadata": {
        "id": "ZQnniVfe3Oy0",
        "colab_type": "text"
      },
      "source": [
        "4. Please rate the availability of the system as low, moderate or high.  Explain.\n",
        "\n",
        "\n",
        "\n",
        "*   Is the information available to intended user?\n",
        "\n",
        "*   Is there a timely response?\n",
        "\n",
        "*   Are there faulty tolerance?\n",
        "\n",
        "\n",
        "*   Are there any availability failures?\n",
        "\n"
      ]
    },
    {
      "cell_type": "markdown",
      "metadata": {
        "id": "9d5O8vkb3NAg",
        "colab_type": "text"
      },
      "source": [
        " 5. If there are any security failures, please propose a solution to address these vulnerabilities. "
      ]
    }
  ]
}