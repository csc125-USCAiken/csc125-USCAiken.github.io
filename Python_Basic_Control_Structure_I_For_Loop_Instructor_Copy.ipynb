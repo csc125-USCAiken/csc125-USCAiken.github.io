{
  "nbformat": 4,
  "nbformat_minor": 0,
  "metadata": {
    "colab": {
      "name": "Python Basic --Control Structure I  -- For Loop ---Instructor Copy",
      "provenance": [],
      "collapsed_sections": [
        "tNx07Jhxca80",
        "Cl6A5iqpdOzE",
        "UeuU8SxSrGb2",
        "3MNhFROIsjEF"
      ],
      "include_colab_link": true
    },
    "kernelspec": {
      "name": "python3",
      "display_name": "Python 3"
    }
  },
  "cells": [
    {
      "cell_type": "markdown",
      "metadata": {
        "id": "view-in-github",
        "colab_type": "text"
      },
      "source": [
        "<a href=\"https://colab.research.google.com/github/csc125-USCAiken/csc125-USCAiken.github.io/blob/master/Python_Basic_Control_Structure_I_For_Loop_Instructor_Copy.ipynb\" target=\"_parent\"><img src=\"https://colab.research.google.com/assets/colab-badge.svg\" alt=\"Open In Colab\"/></a>"
      ]
    },
    {
      "cell_type": "code",
      "metadata": {
        "id": "ucTxhgzDbrfH"
      },
      "source": [
        "# test - yilian\n",
        "# test "
      ],
      "execution_count": null,
      "outputs": []
    },
    {
      "cell_type": "markdown",
      "metadata": {
        "id": "2ggxb7GYPYWS"
      },
      "source": [
        ""
      ]
    },
    {
      "cell_type": "markdown",
      "metadata": {
        "id": "tNx07Jhxca80"
      },
      "source": [
        "# Review\n",
        "Variables​\n",
        "\n",
        ">names ---- hold a value that can change​\n",
        "\n",
        ">storage location --- symbolic name  --- value  ​\n",
        "\n",
        "Type of variables​\n",
        "\n",
        ">string ​\n",
        "\n",
        ">int​\n",
        "\n",
        ">float​\n",
        "\n",
        "How to check type of the variables?​\n",
        "\n",
        "How to convert type? \n",
        "\n",
        "Programming is about writing logical instructions.​\n",
        "\n",
        "**Please do not feel afraid to try , to type, to run code. Any kinds of errors are fine.**​\n",
        "\n",
        "**** You can only learn coding by writing code ****​"
      ]
    },
    {
      "cell_type": "markdown",
      "metadata": {
        "id": "JhJLJuRK9uaw"
      },
      "source": [
        ""
      ]
    },
    {
      "cell_type": "markdown",
      "metadata": {
        "id": "Cl6A5iqpdOzE"
      },
      "source": [
        "# What else can Python do?  Just a smart caluator???   \n",
        "\n"
      ]
    },
    {
      "cell_type": "markdown",
      "metadata": {
        "id": "UeuU8SxSrGb2"
      },
      "source": [
        "\n",
        "## Repetition Structure​ - Simple for loop\n",
        "\n",
        "\n",
        "\n",
        "Example 1:\n",
        "\n",
        "Repeated Tasks​\n",
        "\n",
        "```\n",
        "print *%^&*()@  **10** times\n",
        "```\n"
      ]
    },
    {
      "cell_type": "code",
      "metadata": {
        "id": "77bEs14UedG4"
      },
      "source": [
        "# range(5) is a list from 0 up to 5    -- [0,1,2,3,4]\n",
        "for _ in range(5):\n",
        "  print(\"*%^&*()@\")          # repeat this for 5 times"
      ],
      "execution_count": null,
      "outputs": []
    },
    {
      "cell_type": "code",
      "metadata": {
        "id": "S6jdifU5X6ES"
      },
      "source": [
        "for _ in range(10):\n",
        "  print(\"********\")"
      ],
      "execution_count": null,
      "outputs": []
    },
    {
      "cell_type": "code",
      "metadata": {
        "id": "IGe-RL1KN7id"
      },
      "source": [
        "for _ in range(6):   # inside of the loop :\n",
        "  print(\"repeat......\")"
      ],
      "execution_count": null,
      "outputs": []
    },
    {
      "cell_type": "markdown",
      "metadata": {
        "id": "-a9UERane1JN"
      },
      "source": [
        "Example: repeated task \n",
        "\n",
        "    Repeat the following **four** times:​\n",
        "\n",
        "            Display a prompt to the user;​\n",
        "\n",
        "            Obtain the user’s name; and​\n",
        "\n",
        "            Display a customized hello message\n"
      ]
    },
    {
      "cell_type": "code",
      "metadata": {
        "id": "U00LJxaXeuYM",
        "outputId": "914e3bd6-6850-4390-ab25-62f5224465e2",
        "colab": {
          "base_uri": "https://localhost:8080/",
          "height": 34
        }
      },
      "source": [
        "for _ in range(4):\n",
        "  name = input(\"What is your name ? \\n\")\n",
        "  print(f\"{name} Welcome to usca ! \")"
      ],
      "execution_count": null,
      "outputs": [
        {
          "output_type": "stream",
          "text": [
            "Anna Welcome to usca ! \n"
          ],
          "name": "stdout"
        }
      ]
    },
    {
      "cell_type": "markdown",
      "metadata": {
        "id": "317ge1Z9mvKe"
      },
      "source": [
        "Example: Increase your salary by $2000 every year for ten years.\n",
        "\n",
        "    Suppose your initial salary is $34000\n",
        "    Repeat the following **ten** times:​\n",
        "\n",
        "            increasing your salary by $2000"
      ]
    },
    {
      "cell_type": "code",
      "metadata": {
        "id": "cbP2s2_kniR4"
      },
      "source": [
        "salary = 34000\n",
        "for _ in range(10):\n",
        "  salary = salary + 2000\n",
        "  print(salary)"
      ],
      "execution_count": null,
      "outputs": []
    },
    {
      "cell_type": "markdown",
      "metadata": {
        "id": "9oGhCTDkr6mz"
      },
      "source": [
        "### Try it -- for loop \n",
        "\n",
        "Write a program that prints **We like Python's turtles!** 1000 times."
      ]
    },
    {
      "cell_type": "code",
      "metadata": {
        "id": "1Ac8v4v7HcLm"
      },
      "source": [
        "for _ in range(1000):\n",
        "  print(\"I like Computer Science!\")"
      ],
      "execution_count": null,
      "outputs": []
    },
    {
      "cell_type": "code",
      "metadata": {
        "id": "f4PJUd3vAp2v"
      },
      "source": [
        "for _ in range(1000):\n",
        "  print(\"We like Python's turtles!\")"
      ],
      "execution_count": null,
      "outputs": []
    },
    {
      "cell_type": "markdown",
      "metadata": {
        "id": "uarQzqa2oGBE"
      },
      "source": [
        "# Introduction to Turtle\n",
        "\n",
        "Turtle Module --- Included in standard python library ​\n",
        "\n",
        "It acts like a simple robot . starting at (0, 0) in the x-y plane. After an import turtle, give it the command turtle.forward(15), and it moves (on-screen!) 15 pixels in the direction it is facing, drawing a line as it moves.​\n",
        "\n",
        "Resource:  https://docs.python.org/3.3/library/turtle.html?highlight=turtle"
      ]
    },
    {
      "cell_type": "code",
      "metadata": {
        "id": "yyXve3BqppWJ",
        "outputId": "fe38dc79-f8d4-45ab-c411-99199eb48577",
        "colab": {
          "base_uri": "https://localhost:8080/",
          "height": 188
        }
      },
      "source": [
        "!pip3 install ColabTurtle       "
      ],
      "execution_count": null,
      "outputs": [
        {
          "output_type": "stream",
          "text": [
            "Collecting ColabTurtle\n",
            "  Downloading https://files.pythonhosted.org/packages/49/01/6da7091c2c6c917cce99c000b89acb6aa27b66ef6eafc0c0ccf59b98694f/ColabTurtle-2.0.0.tar.gz\n",
            "Building wheels for collected packages: ColabTurtle\n",
            "  Building wheel for ColabTurtle (setup.py) ... \u001b[?25l\u001b[?25hdone\n",
            "  Created wheel for ColabTurtle: filename=ColabTurtle-2.0.0-cp36-none-any.whl size=4032 sha256=15153fbe0ae0b2d5f7d1d0953a54856e443b76b54c88d7d481388888697c161c\n",
            "  Stored in directory: /root/.cache/pip/wheels/a8/29/ec/ad346f0042ae467cc74f4378916348faf975b07890651dcae7\n",
            "Successfully built ColabTurtle\n",
            "Installing collected packages: ColabTurtle\n",
            "Successfully installed ColabTurtle-2.0.0\n"
          ],
          "name": "stdout"
        }
      ]
    },
    {
      "cell_type": "code",
      "metadata": {
        "id": "wByQEryDp-d4"
      },
      "source": [
        "import ColabTurtle.Turtle                  # code for this colab turtle\n",
        "alex = ColabTurtle.Turtle          "
      ],
      "execution_count": null,
      "outputs": []
    },
    {
      "cell_type": "code",
      "metadata": {
        "id": "4CDef-hIot3i"
      },
      "source": [
        "alex.initializeTurtle() \n",
        "alex.forward(50)     # Tell alex to move forward by 50 units​\n",
        "alex.left(60)    # Tell alex to turn by 90 degrees\n",
        "alex.color(\"blue\")\n",
        "alex.forward(50)\n",
        "alex.left(50)\n",
        "alex.forward(100)"
      ],
      "execution_count": null,
      "outputs": []
    },
    {
      "cell_type": "markdown",
      "metadata": {
        "id": "C6gNBpbDq1BI"
      },
      "source": [
        "## Loop in Turtle graphic\n",
        "\n",
        "Can we let Alex the turtle draw a rectangle?\n",
        "\n",
        "Repeated Task :\n",
        "\n",
        "> Repeat the following for 4 times\n",
        "\n",
        "> Go forward by 50 and turn left by 90 degree\n",
        "\n",
        "\n"
      ]
    },
    {
      "cell_type": "code",
      "metadata": {
        "id": "fNqQLAoOtPiM"
      },
      "source": [
        "alex.initializeTurtle() \n",
        "alex.speed(5)\n",
        "for _ in range(4):  # repeat four times\n",
        "  alex.forward(100)  # length of sie\n",
        "  alex.left(90)  # angle\n"
      ],
      "execution_count": null,
      "outputs": []
    },
    {
      "cell_type": "markdown",
      "metadata": {
        "id": "SNYRwcX6NaIl"
      },
      "source": [
        "## Optional Question:  Draw a regular polygon with any given sides and length. \n",
        "\n",
        "input from the user --- number of sides and length\n",
        "output    --- display the regular polygon"
      ]
    },
    {
      "cell_type": "markdown",
      "metadata": {
        "id": "cS3CrOeBRkP4"
      },
      "source": [
        "## A few more turtle methods and tricks\n",
        "\n",
        "\n",
        "1.   Go backward --- alex.forward(-100)\n",
        "2.   Go right   --- alex.left(-30)\n",
        "3.   Do not draw  --- alex.penup() \n",
        "4.   Stamp the footprint  --- alex.stamp() \n",
        "\n",
        "\n"
      ]
    },
    {
      "cell_type": "markdown",
      "metadata": {
        "id": "xBnyc4PuTFVf"
      },
      "source": [
        "# For loop with iteration variables\n"
      ]
    },
    {
      "cell_type": "markdown",
      "metadata": {
        "id": "aRJoXgegZnU9"
      },
      "source": [
        "For loop is a counter-controlled repetition with a control variable​ (iteration variable). \n",
        "\n",
        "Every time the loop is run, the iteration variable move to the next value. When it reaches the end of list, the loop end. \n",
        "\n",
        "![Screenshot from 2020-09-24 00-39-50.png](data:image/png;base64,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)"
      ]
    },
    {
      "cell_type": "code",
      "metadata": {
        "id": "STbOMVoHZTMv",
        "outputId": "28c07543-4fc7-4f32-da8f-3889e09addb4",
        "colab": {
          "base_uri": "https://localhost:8080/",
          "height": 65
        }
      },
      "source": [
        "for i in range(0,3):\n",
        "  print(f'The loop variable is {i}')"
      ],
      "execution_count": null,
      "outputs": [
        {
          "output_type": "stream",
          "text": [
            "The loop variable is 0\n",
            "The loop variable is 1\n",
            "The loop variable is 2\n"
          ],
          "name": "stdout"
        }
      ]
    },
    {
      "cell_type": "markdown",
      "metadata": {
        "id": "ASOZP4PBbnl-"
      },
      "source": [
        "## Understand the range\n",
        "* range([start], stop[, step])    --- not include the stop!​\n",
        "\n",
        "* Default start value is 0 \n",
        "* Default step side is 1\n",
        "\n",
        "\n",
        "\n"
      ]
    },
    {
      "cell_type": "markdown",
      "metadata": {
        "id": "gcxpWQlbgpsg"
      },
      "source": [
        "# More applications with Loop\n",
        "\n",
        "* Display squares of the number 11, 12, 13, 14, 15, 16​ \n",
        "\n",
        "* Find the sum of 4+5+6+7+...49\n",
        "\n",
        "* Find the sum of 24+25+26+...179\n",
        "\n",
        "* Find the sum of 1+3 +5 +7 +8 +9+ ..99\n",
        "\n",
        "* Find the sum of $ \\frac{1}{2}+\\frac{1}{4}+\\frac{1}{6}+\\frac{1}{8}+..\\frac{1}{20}$\n",
        "\n",
        "* Find the sum of $ 11^2 + 12^2+13^2+14^2+15^2+..+41^2 $\n"
      ]
    },
    {
      "cell_type": "markdown",
      "metadata": {
        "id": "3MNhFROIsjEF"
      },
      "source": [
        "## Try it - Turtle Graphic --- Group In-Class Exercise\n",
        " \n",
        "![Screenshot from 2020-09-24 00-30-54.png](data:image/png;base64,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)"
      ]
    },
    {
      "cell_type": "markdown",
      "metadata": {
        "id": "FaYBo6TmIOcU"
      },
      "source": [
        "### Group 1 Coder: ___    Narrator: ____    Observer: ____\n",
        "Let alex the turtle draw a equilateral triangle."
      ]
    },
    {
      "cell_type": "code",
      "metadata": {
        "id": "LUiX6FZFJIBS"
      },
      "source": [
        "alex.initializeTurtle() \n",
        "#start from here\n"
      ],
      "execution_count": null,
      "outputs": []
    },
    {
      "cell_type": "markdown",
      "metadata": {
        "id": "SnJOj-ZJI1kY"
      },
      "source": [
        "### Group 2 Coder: ___    Narrator: ____    Observer: ____\n",
        "Let alex the turtle draw a square."
      ]
    },
    {
      "cell_type": "markdown",
      "metadata": {
        "id": "xyLAOsaKLQqV"
      },
      "source": [
        ""
      ]
    },
    {
      "cell_type": "code",
      "metadata": {
        "id": "RRnG9tuiJKq2"
      },
      "source": [
        "alex.initializeTurtle() \n",
        "#start from here\n",
        "\n"
      ],
      "execution_count": null,
      "outputs": []
    },
    {
      "cell_type": "markdown",
      "metadata": {
        "id": "UL-FHaMMI18o"
      },
      "source": [
        "### Group 3 Coder: ___    Narrator: ____    Observer: ____\n",
        "Let alex the turtle draw a pentagon (5 sides)."
      ]
    },
    {
      "cell_type": "code",
      "metadata": {
        "id": "E4AWWumJJX57"
      },
      "source": [
        "alex.initializeTurtle() \n",
        "#start from here\n"
      ],
      "execution_count": null,
      "outputs": []
    },
    {
      "cell_type": "markdown",
      "metadata": {
        "id": "Ubk8JVqDI2LP"
      },
      "source": [
        "### Group 4 Coder: ___    Narrator: ____    Observer: ____\n",
        "Let alex the turtle draw a hexagon (6 sides)."
      ]
    },
    {
      "cell_type": "code",
      "metadata": {
        "id": "MC6A5jbPJaQw"
      },
      "source": [
        "alex.initializeTurtle() \n",
        "#start from here\n"
      ],
      "execution_count": null,
      "outputs": []
    },
    {
      "cell_type": "markdown",
      "metadata": {
        "id": "CFmwlEshI2X9"
      },
      "source": [
        "### Group 5 Coder: ___    Narrator: ____    Observer: ____\n",
        "Let alex the turtle draw an Octagon (8 sides)."
      ]
    },
    {
      "cell_type": "code",
      "metadata": {
        "id": "aSy8DKL9XzTO"
      },
      "source": [
        "alex.initializeTurtle() \n",
        "#start from here\n",
        "\n"
      ],
      "execution_count": null,
      "outputs": []
    },
    {
      "cell_type": "markdown",
      "metadata": {
        "id": "AEL7GSstMbe7"
      },
      "source": [
        "### Group 6 Coder: ___    Narrator: ____    Observer: ____\n",
        "Let alex the turtle draw a Nonagon (9 sides)."
      ]
    },
    {
      "cell_type": "code",
      "metadata": {
        "id": "qkH0v1BUVTYB"
      },
      "source": [
        "alex.initializeTurtle() \n",
        "#start from here\n"
      ],
      "execution_count": null,
      "outputs": []
    },
    {
      "cell_type": "code",
      "metadata": {
        "id": "wBbqCpyVNVVK"
      },
      "source": [
        ""
      ],
      "execution_count": null,
      "outputs": []
    },
    {
      "cell_type": "markdown",
      "metadata": {
        "id": "L6DPnq5aMqcJ"
      },
      "source": [
        "### Group 7 Coder: ___    Narrator: ____    Observer: ____\n",
        "Let alex the turtle draw a Decagon (10 sides)."
      ]
    },
    {
      "cell_type": "code",
      "metadata": {
        "id": "ND3I5BGONWFy"
      },
      "source": [
        "alex.initializeTurtle() \n",
        "#start from here\n"
      ],
      "execution_count": null,
      "outputs": []
    },
    {
      "cell_type": "markdown",
      "metadata": {
        "id": "OH5r6pq8wVYo"
      },
      "source": [
        "Example:  Turtle Graphic \n",
        "Write a program to draw a star shape:\n",
        "\n"
      ]
    },
    {
      "cell_type": "code",
      "metadata": {
        "id": "BuQSeSwxwxu4",
        "outputId": "83ca311e-34d1-4cf4-a202-3cf912b7e879",
        "colab": {
          "base_uri": "https://localhost:8080/",
          "height": 521
        }
      },
      "source": [
        "alex.initializeTurtle() \n",
        "alex.speed(5)\n",
        "alex.left(18)\n",
        "for _ in range(5): \n",
        "  alex.forward(200)\n",
        "  alex.left(144)"
      ],
      "execution_count": null,
      "outputs": [
        {
          "output_type": "display_data",
          "data": {
            "text/html": [
              "\n",
              "      <svg width=\"800\" height=\"500\">\n",
              "        <rect width=\"100%\" height=\"100%\" fill=\"black\"/>\n",
              "        <line x1=\"400\" y1=\"250\" x2=\"338.1966011250105\" y2=\"59.7886967409693\" stroke-linecap=\"round\" style=\"stroke:white;stroke-width:4\"/><line x1=\"338.1966011250105\" y1=\"59.7886967409693\" x2=\"276.39320225002103\" y2=\"250.00000000000003\" stroke-linecap=\"round\" style=\"stroke:white;stroke-width:4\"/><line x1=\"276.39320225002103\" y1=\"250.00000000000003\" x2=\"438.1966011250105\" y2=\"132.44294954150536\" stroke-linecap=\"round\" style=\"stroke:white;stroke-width:4\"/><line x1=\"438.1966011250105\" y1=\"132.44294954150536\" x2=\"238.1966011250105\" y2=\"132.44294954150539\" stroke-linecap=\"round\" style=\"stroke:white;stroke-width:4\"/><line x1=\"238.1966011250105\" y1=\"132.44294954150539\" x2=\"400.0\" y2=\"250.0\" stroke-linecap=\"round\" style=\"stroke:white;stroke-width:4\"/>\n",
              "        \n",
              "      <g visibility=visible transform=\"rotate(162,400.0,250.0) translate(400.0, 250.0)\">\n",
              "        <circle stroke=\"white\" stroke-width=\"3\" fill=\"transparent\" r=\"12\" cx=\"0\" cy=\"0\"/>\n",
              "        <polygon points=\"0,19 3,16 -3,16\" style=\"fill:white;stroke:white;stroke-width:2\"/>\n",
              "      </g>\n",
              "    \n",
              "      </svg>\n",
              "    "
            ],
            "text/plain": [
              "<IPython.core.display.HTML object>"
            ]
          },
          "metadata": {
            "tags": []
          }
        }
      ]
    },
    {
      "cell_type": "markdown",
      "metadata": {
        "id": "CJJkJFk4PXZp"
      },
      "source": [
        "Your first Turtle Program on Visual Studio Code.\n",
        "Please create a file named **turtlepractice.py** and then copy the following codes. \n",
        "```\n",
        " import turtle             # Allows us to use turtles\n",
        " wn = turtle.Screen()      # Creates a playground for turtles\n",
        " alex = turtle.Turtle()    # Create a turtle, assign to alex\n",
        "\n",
        " alex.forward(50)          # Tell alex to move forward by 50 units\n",
        " alex.left(90)             # Tell alex to turn by 90 degrees\n",
        " alex.forward(30)          # Complete the second side of a rectangle\n",
        "\n",
        " wn.mainloop()             # Wait for user to close window\n",
        "```\n",
        "\n",
        "\n",
        "\n",
        "\n",
        "\n"
      ]
    },
    {
      "cell_type": "markdown",
      "metadata": {
        "id": "duUlPck1P3JL"
      },
      "source": [
        "Understand the Code:\n",
        "\n",
        "**Module** turtle\n",
        "\n",
        "**Object** alex  \n",
        "\n",
        "**Methods** .forward  .left  .speed  .color\n",
        "\n",
        "**An object can have various methods **\n",
        "\n",
        "**We can have many turtle objects **\n",
        "\n"
      ]
    },
    {
      "cell_type": "code",
      "metadata": {
        "id": "11duV4iUZdrM",
        "outputId": "476565a0-6e58-4e7a-86c5-4293e0a0cdb7",
        "colab": {
          "base_uri": "https://localhost:8080/",
          "height": 34
        }
      },
      "source": [
        "# what is in the list   range(4, 8)\n",
        "for i in range(4,8):\n",
        "  print(i, end=\" \")      # do not print a newline, end with space​"
      ],
      "execution_count": null,
      "outputs": [
        {
          "output_type": "stream",
          "text": [
            "4 5 6 7 "
          ],
          "name": "stdout"
        }
      ]
    },
    {
      "cell_type": "code",
      "metadata": {
        "id": "YGy3ra0Gc5no",
        "outputId": "4632c856-7d48-4d59-d26b-767c96f67bf5",
        "colab": {
          "base_uri": "https://localhost:8080/",
          "height": 34
        }
      },
      "source": [
        "# what is in the list   range(100, 107)\n",
        "for i in range(100,107):\n",
        "  print(i, end=\" \")       # do not print a newline, end with space​"
      ],
      "execution_count": null,
      "outputs": [
        {
          "output_type": "stream",
          "text": [
            "100 101 102 103 104 105 106 "
          ],
          "name": "stdout"
        }
      ]
    },
    {
      "cell_type": "markdown",
      "metadata": {
        "id": "B-asYd6edCOg"
      },
      "source": [
        "range([start], stop[, step])    --- not include the stop!​\n",
        "\n",
        "    start: Starting number of the sequence.​\n",
        "\n",
        "    stop: Generate numbers up to, but not including this number.​\n",
        "\n",
        "    step: Difference between each number in the sequenced​\n",
        "\n",
        "Example: Display values 0, 10, 20, …, 80, 90, 100"
      ]
    },
    {
      "cell_type": "code",
      "metadata": {
        "id": "g15oBzZ_dlpu",
        "outputId": "c0d86f61-18d8-47ea-a9b6-25ce9ee38a52",
        "colab": {
          "base_uri": "https://localhost:8080/",
          "height": 34
        }
      },
      "source": [
        "for i in range(0,101,10):\n",
        "  print(i, end=\" \")   "
      ],
      "execution_count": null,
      "outputs": [
        {
          "output_type": "stream",
          "text": [
            "0 10 20 30 40 50 60 70 80 90 100 "
          ],
          "name": "stdout"
        }
      ]
    },
    {
      "cell_type": "markdown",
      "metadata": {
        "id": "on85xkWBeLwv"
      },
      "source": [
        "## Try it - For loop with range ---Group In-Class Exercise\n",
        "Display multiples of a prime number between 1 to 100. \n"
      ]
    },
    {
      "cell_type": "markdown",
      "metadata": {
        "id": "yG7nfDhNfUGm"
      },
      "source": [
        "### Group 1 Coder: ___    Narrator: ____    Observer: ____\n",
        "\n",
        "Display multiples of 3 between 1 to 100.   3 6 9 12 -- step 3"
      ]
    },
    {
      "cell_type": "code",
      "metadata": {
        "id": "jiK-cpqvCYdy"
      },
      "source": [
        "# Start from here\n"
      ],
      "execution_count": null,
      "outputs": []
    },
    {
      "cell_type": "markdown",
      "metadata": {
        "id": "tcyijpKmffCh"
      },
      "source": [
        "### Group 2 Coder: ___    Narrator: ____    Observer: ____\n",
        "\n",
        "Display multiples of 5 between 1 to 100. "
      ]
    },
    {
      "cell_type": "code",
      "metadata": {
        "id": "M3V-Fk40fBd3"
      },
      "source": [
        "# Start from here"
      ],
      "execution_count": null,
      "outputs": []
    },
    {
      "cell_type": "markdown",
      "metadata": {
        "id": "ru4hZkmXffTT"
      },
      "source": [
        "### Group 3 Coder: ___    Narrator: ____    Observer: ____\n",
        "\n",
        "Display multiples of 7 between 1 to 100. "
      ]
    },
    {
      "cell_type": "code",
      "metadata": {
        "id": "x1Rqefq1fE0D"
      },
      "source": [
        "# Start from here"
      ],
      "execution_count": null,
      "outputs": []
    },
    {
      "cell_type": "markdown",
      "metadata": {
        "id": "V6ZK49JCffdm"
      },
      "source": [
        "### Group 4 Coder: ___    Narrator: ____    Observer: ____\n",
        "\n",
        "Display multiples of 11 between 1 to 100. "
      ]
    },
    {
      "cell_type": "code",
      "metadata": {
        "id": "Ixq4d5M_C0mf"
      },
      "source": [
        "# Start from here"
      ],
      "execution_count": null,
      "outputs": []
    },
    {
      "cell_type": "markdown",
      "metadata": {
        "id": "Ig4CqdLUfgA9"
      },
      "source": [
        "### Group 5 Coder: ___    Narrator: ____    Observer: ____\n",
        "\n",
        "Display multiples of 13 between 1 to 100. "
      ]
    },
    {
      "cell_type": "code",
      "metadata": {
        "id": "x-s8_I_XfLkk"
      },
      "source": [
        "# Start from here"
      ],
      "execution_count": null,
      "outputs": []
    },
    {
      "cell_type": "markdown",
      "metadata": {
        "id": "Z69jnbojfgLQ"
      },
      "source": [
        "### Group 6 Coder: ___    Narrator: ____    Observer: ____\n",
        "\n",
        "Display multiples of 17 between 1 to 100. "
      ]
    },
    {
      "cell_type": "code",
      "metadata": {
        "id": "NoSlwoNlfNNr"
      },
      "source": [
        "# Start from here"
      ],
      "execution_count": null,
      "outputs": []
    },
    {
      "cell_type": "markdown",
      "metadata": {
        "id": "4cGZEzjzfvqT"
      },
      "source": [
        "### Group 7 Coder: ___    Narrator: ____    Observer: ____\n",
        "\n",
        "Display multiples of 19 between 1 to 100. "
      ]
    },
    {
      "cell_type": "code",
      "metadata": {
        "id": "FipuKc8YfOh4"
      },
      "source": [
        "# Start from here"
      ],
      "execution_count": null,
      "outputs": []
    },
    {
      "cell_type": "markdown",
      "metadata": {
        "id": "STI_SD0Ef0WG"
      },
      "source": [
        "### Optional Question: \n",
        "\n",
        "Display multiples of 31 between 10000 to 20000. "
      ]
    },
    {
      "cell_type": "code",
      "metadata": {
        "id": "nazMThQUh9M8"
      },
      "source": [
        ""
      ],
      "execution_count": null,
      "outputs": []
    },
    {
      "cell_type": "markdown",
      "metadata": {
        "id": "atW7JAHvhubc"
      },
      "source": [
        "How about a turtle that always forward a different length?"
      ]
    },
    {
      "cell_type": "code",
      "metadata": {
        "id": "OookiZFzh965",
        "outputId": "2a753739-fe35-4da5-cc4b-e0fd89130967",
        "colab": {
          "base_uri": "https://localhost:8080/",
          "height": 521
        }
      },
      "source": [
        "alex.initializeTurtle()\n",
        "alex.speed(10)\n",
        "for i in range(10,500,5):\n",
        "  alex.forward(i)\n",
        "  alex.left(120)"
      ],
      "execution_count": null,
      "outputs": [
        {
          "output_type": "display_data",
          "data": {
            "text/html": [
              "\n",
              "      <svg width=\"800\" height=\"500\">\n",
              "        <rect width=\"100%\" height=\"100%\" fill=\"black\"/>\n",
              "        <line x1=\"400\" y1=\"250\" x2=\"400.0\" y2=\"240.0\" stroke-linecap=\"round\" style=\"stroke:white;stroke-width:4\"/><line x1=\"400.0\" y1=\"240.0\" x2=\"387.0096189432334\" y2=\"247.5\" stroke-linecap=\"round\" style=\"stroke:white;stroke-width:4\"/><line x1=\"387.0096189432334\" y1=\"247.5\" x2=\"404.3301270189222\" y2=\"257.5\" stroke-linecap=\"round\" style=\"stroke:white;stroke-width:4\"/><line x1=\"404.3301270189222\" y1=\"257.5\" x2=\"404.3301270189222\" y2=\"232.5\" stroke-linecap=\"round\" style=\"stroke:white;stroke-width:4\"/><line x1=\"404.3301270189222\" y1=\"232.5\" x2=\"378.34936490538905\" y2=\"247.5\" stroke-linecap=\"round\" style=\"stroke:white;stroke-width:4\"/><line x1=\"378.34936490538905\" y1=\"247.5\" x2=\"408.6602540378444\" y2=\"265.0\" stroke-linecap=\"round\" style=\"stroke:white;stroke-width:4\"/><line x1=\"408.6602540378444\" y1=\"265.0\" x2=\"408.6602540378444\" y2=\"225.0\" stroke-linecap=\"round\" style=\"stroke:white;stroke-width:4\"/><line x1=\"408.6602540378444\" y1=\"225.0\" x2=\"369.6891108675447\" y2=\"247.5\" stroke-linecap=\"round\" style=\"stroke:white;stroke-width:4\"/><line x1=\"369.6891108675447\" y1=\"247.5\" x2=\"412.99038105676664\" y2=\"272.5\" stroke-linecap=\"round\" style=\"stroke:white;stroke-width:4\"/><line x1=\"412.99038105676664\" y1=\"272.5\" x2=\"412.99038105676664\" y2=\"217.5\" stroke-linecap=\"round\" style=\"stroke:white;stroke-width:4\"/><line x1=\"412.99038105676664\" y1=\"217.5\" x2=\"361.0288568297003\" y2=\"247.5\" stroke-linecap=\"round\" style=\"stroke:white;stroke-width:4\"/><line x1=\"361.0288568297003\" y1=\"247.5\" x2=\"417.32050807568885\" y2=\"280.0\" stroke-linecap=\"round\" style=\"stroke:white;stroke-width:4\"/><line x1=\"417.32050807568885\" y1=\"280.0\" x2=\"417.32050807568885\" y2=\"210.0\" stroke-linecap=\"round\" style=\"stroke:white;stroke-width:4\"/><line x1=\"417.32050807568885\" y1=\"210.0\" x2=\"352.36860279185595\" y2=\"247.5\" stroke-linecap=\"round\" style=\"stroke:white;stroke-width:4\"/><line x1=\"352.36860279185595\" y1=\"247.5\" x2=\"421.65063509461106\" y2=\"287.5\" stroke-linecap=\"round\" style=\"stroke:white;stroke-width:4\"/><line x1=\"421.65063509461106\" y1=\"287.5\" x2=\"421.65063509461106\" y2=\"202.5\" stroke-linecap=\"round\" style=\"stroke:white;stroke-width:4\"/><line x1=\"421.65063509461106\" y1=\"202.5\" x2=\"343.7083487540116\" y2=\"247.5\" stroke-linecap=\"round\" style=\"stroke:white;stroke-width:4\"/><line x1=\"343.7083487540116\" y1=\"247.5\" x2=\"425.9807621135333\" y2=\"295.0\" stroke-linecap=\"round\" style=\"stroke:white;stroke-width:4\"/><line x1=\"425.9807621135333\" y1=\"295.0\" x2=\"425.9807621135333\" y2=\"195.0\" stroke-linecap=\"round\" style=\"stroke:white;stroke-width:4\"/><line x1=\"425.9807621135333\" y1=\"195.0\" x2=\"335.0480947161672\" y2=\"247.5\" stroke-linecap=\"round\" style=\"stroke:white;stroke-width:4\"/><line x1=\"335.0480947161672\" y1=\"247.5\" x2=\"430.3108891324555\" y2=\"302.5\" stroke-linecap=\"round\" style=\"stroke:white;stroke-width:4\"/><line x1=\"430.3108891324555\" y1=\"302.5\" x2=\"430.3108891324555\" y2=\"187.5\" stroke-linecap=\"round\" style=\"stroke:white;stroke-width:4\"/><line x1=\"430.3108891324555\" y1=\"187.5\" x2=\"326.38784067832285\" y2=\"247.5\" stroke-linecap=\"round\" style=\"stroke:white;stroke-width:4\"/><line x1=\"326.38784067832285\" y1=\"247.5\" x2=\"434.6410161513777\" y2=\"310.0\" stroke-linecap=\"round\" style=\"stroke:white;stroke-width:4\"/><line x1=\"434.6410161513777\" y1=\"310.0\" x2=\"434.6410161513777\" y2=\"180.0\" stroke-linecap=\"round\" style=\"stroke:white;stroke-width:4\"/><line x1=\"434.6410161513777\" y1=\"180.0\" x2=\"317.7275866404785\" y2=\"247.5\" stroke-linecap=\"round\" style=\"stroke:white;stroke-width:4\"/><line x1=\"317.7275866404785\" y1=\"247.5\" x2=\"438.9711431702999\" y2=\"317.5\" stroke-linecap=\"round\" style=\"stroke:white;stroke-width:4\"/><line x1=\"438.9711431702999\" y1=\"317.5\" x2=\"438.9711431702999\" y2=\"172.5\" stroke-linecap=\"round\" style=\"stroke:white;stroke-width:4\"/><line x1=\"438.9711431702999\" y1=\"172.5\" x2=\"309.0673326026341\" y2=\"247.5\" stroke-linecap=\"round\" style=\"stroke:white;stroke-width:4\"/><line x1=\"309.0673326026341\" y1=\"247.5\" x2=\"443.3012701892221\" y2=\"325.0\" stroke-linecap=\"round\" style=\"stroke:white;stroke-width:4\"/><line x1=\"443.3012701892221\" y1=\"325.0\" x2=\"443.30127018922207\" y2=\"165.0\" stroke-linecap=\"round\" style=\"stroke:white;stroke-width:4\"/><line x1=\"443.30127018922207\" y1=\"165.0\" x2=\"300.4070785647897\" y2=\"247.5\" stroke-linecap=\"round\" style=\"stroke:white;stroke-width:4\"/><line x1=\"300.4070785647897\" y1=\"247.5\" x2=\"447.6313972081443\" y2=\"332.5\" stroke-linecap=\"round\" style=\"stroke:white;stroke-width:4\"/><line x1=\"447.6313972081443\" y1=\"332.5\" x2=\"447.6313972081442\" y2=\"157.5\" stroke-linecap=\"round\" style=\"stroke:white;stroke-width:4\"/><line x1=\"447.6313972081442\" y1=\"157.5\" x2=\"291.74682452694526\" y2=\"247.5\" stroke-linecap=\"round\" style=\"stroke:white;stroke-width:4\"/><line x1=\"291.74682452694526\" y1=\"247.5\" x2=\"451.96152422706643\" y2=\"340.0\" stroke-linecap=\"round\" style=\"stroke:white;stroke-width:4\"/><line x1=\"451.96152422706643\" y1=\"340.0\" x2=\"451.9615242270664\" y2=\"150.0\" stroke-linecap=\"round\" style=\"stroke:white;stroke-width:4\"/><line x1=\"451.9615242270664\" y1=\"150.0\" x2=\"283.08657048910084\" y2=\"247.5\" stroke-linecap=\"round\" style=\"stroke:white;stroke-width:4\"/><line x1=\"283.08657048910084\" y1=\"247.5\" x2=\"456.2916512459886\" y2=\"347.5\" stroke-linecap=\"round\" style=\"stroke:white;stroke-width:4\"/><line x1=\"456.2916512459886\" y1=\"347.5\" x2=\"456.29165124598853\" y2=\"142.5\" stroke-linecap=\"round\" style=\"stroke:white;stroke-width:4\"/><line x1=\"456.29165124598853\" y1=\"142.5\" x2=\"274.4263164512564\" y2=\"247.5\" stroke-linecap=\"round\" style=\"stroke:white;stroke-width:4\"/><line x1=\"274.4263164512564\" y1=\"247.5\" x2=\"460.62177826491074\" y2=\"355.0\" stroke-linecap=\"round\" style=\"stroke:white;stroke-width:4\"/><line x1=\"460.62177826491074\" y1=\"355.0\" x2=\"460.6217782649107\" y2=\"135.0\" stroke-linecap=\"round\" style=\"stroke:white;stroke-width:4\"/><line x1=\"460.6217782649107\" y1=\"135.0\" x2=\"265.766062413412\" y2=\"247.5\" stroke-linecap=\"round\" style=\"stroke:white;stroke-width:4\"/><line x1=\"265.766062413412\" y1=\"247.5\" x2=\"464.9519052838329\" y2=\"362.5\" stroke-linecap=\"round\" style=\"stroke:white;stroke-width:4\"/><line x1=\"464.9519052838329\" y1=\"362.5\" x2=\"464.95190528383284\" y2=\"127.5\" stroke-linecap=\"round\" style=\"stroke:white;stroke-width:4\"/><line x1=\"464.95190528383284\" y1=\"127.5\" x2=\"257.10580837556756\" y2=\"247.5\" stroke-linecap=\"round\" style=\"stroke:white;stroke-width:4\"/><line x1=\"257.10580837556756\" y1=\"247.5\" x2=\"469.28203230275506\" y2=\"370.0\" stroke-linecap=\"round\" style=\"stroke:white;stroke-width:4\"/><line x1=\"469.28203230275506\" y1=\"370.0\" x2=\"469.282032302755\" y2=\"120.0\" stroke-linecap=\"round\" style=\"stroke:white;stroke-width:4\"/><line x1=\"469.282032302755\" y1=\"120.0\" x2=\"248.44555433772314\" y2=\"247.5\" stroke-linecap=\"round\" style=\"stroke:white;stroke-width:4\"/><line x1=\"248.44555433772314\" y1=\"247.5\" x2=\"473.6121593216772\" y2=\"377.5\" stroke-linecap=\"round\" style=\"stroke:white;stroke-width:4\"/><line x1=\"473.6121593216772\" y1=\"377.5\" x2=\"473.61215932167715\" y2=\"112.5\" stroke-linecap=\"round\" style=\"stroke:white;stroke-width:4\"/><line x1=\"473.61215932167715\" y1=\"112.5\" x2=\"239.7853002998787\" y2=\"247.49999999999997\" stroke-linecap=\"round\" style=\"stroke:white;stroke-width:4\"/><line x1=\"239.7853002998787\" y1=\"247.49999999999997\" x2=\"477.94228634059937\" y2=\"384.99999999999994\" stroke-linecap=\"round\" style=\"stroke:white;stroke-width:4\"/><line x1=\"477.94228634059937\" y1=\"384.99999999999994\" x2=\"477.9422863405993\" y2=\"104.99999999999994\" stroke-linecap=\"round\" style=\"stroke:white;stroke-width:4\"/><line x1=\"477.9422863405993\" y1=\"104.99999999999994\" x2=\"231.1250462620343\" y2=\"247.49999999999991\" stroke-linecap=\"round\" style=\"stroke:white;stroke-width:4\"/><line x1=\"231.1250462620343\" y1=\"247.49999999999991\" x2=\"482.2724133595215\" y2=\"392.4999999999999\" stroke-linecap=\"round\" style=\"stroke:white;stroke-width:4\"/><line x1=\"482.2724133595215\" y1=\"392.4999999999999\" x2=\"482.27241335952147\" y2=\"97.49999999999989\" stroke-linecap=\"round\" style=\"stroke:white;stroke-width:4\"/><line x1=\"482.27241335952147\" y1=\"97.49999999999989\" x2=\"222.46479222418986\" y2=\"247.49999999999986\" stroke-linecap=\"round\" style=\"stroke:white;stroke-width:4\"/><line x1=\"222.46479222418986\" y1=\"247.49999999999986\" x2=\"486.6025403784437\" y2=\"399.99999999999983\" stroke-linecap=\"round\" style=\"stroke:white;stroke-width:4\"/><line x1=\"486.6025403784437\" y1=\"399.99999999999983\" x2=\"486.6025403784436\" y2=\"89.99999999999983\" stroke-linecap=\"round\" style=\"stroke:white;stroke-width:4\"/><line x1=\"486.6025403784436\" y1=\"89.99999999999983\" x2=\"213.80453818634544\" y2=\"247.4999999999998\" stroke-linecap=\"round\" style=\"stroke:white;stroke-width:4\"/><line x1=\"213.80453818634544\" y1=\"247.4999999999998\" x2=\"490.93266739736583\" y2=\"407.4999999999998\" stroke-linecap=\"round\" style=\"stroke:white;stroke-width:4\"/><line x1=\"490.93266739736583\" y1=\"407.4999999999998\" x2=\"490.9326673973658\" y2=\"82.49999999999977\" stroke-linecap=\"round\" style=\"stroke:white;stroke-width:4\"/><line x1=\"490.9326673973658\" y1=\"82.49999999999977\" x2=\"205.14428414850101\" y2=\"247.49999999999974\" stroke-linecap=\"round\" style=\"stroke:white;stroke-width:4\"/><line x1=\"205.14428414850101\" y1=\"247.49999999999974\" x2=\"495.262794416288\" y2=\"414.9999999999997\" stroke-linecap=\"round\" style=\"stroke:white;stroke-width:4\"/><line x1=\"495.262794416288\" y1=\"414.9999999999997\" x2=\"495.26279441628793\" y2=\"74.99999999999972\" stroke-linecap=\"round\" style=\"stroke:white;stroke-width:4\"/><line x1=\"495.26279441628793\" y1=\"74.99999999999972\" x2=\"196.4840301106566\" y2=\"247.4999999999997\" stroke-linecap=\"round\" style=\"stroke:white;stroke-width:4\"/><line x1=\"196.4840301106566\" y1=\"247.4999999999997\" x2=\"499.59292143521014\" y2=\"422.49999999999966\" stroke-linecap=\"round\" style=\"stroke:white;stroke-width:4\"/><line x1=\"499.59292143521014\" y1=\"422.49999999999966\" x2=\"499.5929214352101\" y2=\"67.49999999999966\" stroke-linecap=\"round\" style=\"stroke:white;stroke-width:4\"/><line x1=\"499.5929214352101\" y1=\"67.49999999999966\" x2=\"187.82377607281217\" y2=\"247.49999999999963\" stroke-linecap=\"round\" style=\"stroke:white;stroke-width:4\"/><line x1=\"187.82377607281217\" y1=\"247.49999999999963\" x2=\"503.9230484541323\" y2=\"429.9999999999996\" stroke-linecap=\"round\" style=\"stroke:white;stroke-width:4\"/><line x1=\"503.9230484541323\" y1=\"429.9999999999996\" x2=\"503.92304845413224\" y2=\"59.9999999999996\" stroke-linecap=\"round\" style=\"stroke:white;stroke-width:4\"/><line x1=\"503.92304845413224\" y1=\"59.9999999999996\" x2=\"179.16352203496774\" y2=\"247.49999999999957\" stroke-linecap=\"round\" style=\"stroke:white;stroke-width:4\"/><line x1=\"179.16352203496774\" y1=\"247.49999999999957\" x2=\"508.25317547305445\" y2=\"437.49999999999955\" stroke-linecap=\"round\" style=\"stroke:white;stroke-width:4\"/><line x1=\"508.25317547305445\" y1=\"437.49999999999955\" x2=\"508.2531754730544\" y2=\"52.499999999999545\" stroke-linecap=\"round\" style=\"stroke:white;stroke-width:4\"/><line x1=\"508.2531754730544\" y1=\"52.499999999999545\" x2=\"170.50326799712332\" y2=\"247.49999999999952\" stroke-linecap=\"round\" style=\"stroke:white;stroke-width:4\"/><line x1=\"170.50326799712332\" y1=\"247.49999999999952\" x2=\"512.5833024919766\" y2=\"444.9999999999995\" stroke-linecap=\"round\" style=\"stroke:white;stroke-width:4\"/><line x1=\"512.5833024919766\" y1=\"444.9999999999995\" x2=\"512.5833024919765\" y2=\"44.99999999999949\" stroke-linecap=\"round\" style=\"stroke:white;stroke-width:4\"/><line x1=\"512.5833024919765\" y1=\"44.99999999999949\" x2=\"161.84301395927884\" y2=\"247.49999999999946\" stroke-linecap=\"round\" style=\"stroke:white;stroke-width:4\"/><line x1=\"161.84301395927884\" y1=\"247.49999999999946\" x2=\"516.9134295108987\" y2=\"452.49999999999943\" stroke-linecap=\"round\" style=\"stroke:white;stroke-width:4\"/><line x1=\"516.9134295108987\" y1=\"452.49999999999943\" x2=\"516.9134295108986\" y2=\"37.49999999999943\" stroke-linecap=\"round\" style=\"stroke:white;stroke-width:4\"/><line x1=\"516.9134295108986\" y1=\"37.49999999999943\" x2=\"153.18275992143435\" y2=\"247.4999999999994\" stroke-linecap=\"round\" style=\"stroke:white;stroke-width:4\"/><line x1=\"153.18275992143435\" y1=\"247.4999999999994\" x2=\"521.2435565298208\" y2=\"459.9999999999994\" stroke-linecap=\"round\" style=\"stroke:white;stroke-width:4\"/><line x1=\"521.2435565298208\" y1=\"459.9999999999994\" x2=\"521.2435565298207\" y2=\"29.999999999999375\" stroke-linecap=\"round\" style=\"stroke:white;stroke-width:4\"/><line x1=\"521.2435565298207\" y1=\"29.999999999999375\" x2=\"144.52250588358987\" y2=\"247.49999999999935\" stroke-linecap=\"round\" style=\"stroke:white;stroke-width:4\"/><line x1=\"144.52250588358987\" y1=\"247.49999999999935\" x2=\"525.5736835487429\" y2=\"467.4999999999993\" stroke-linecap=\"round\" style=\"stroke:white;stroke-width:4\"/><line x1=\"525.5736835487429\" y1=\"467.4999999999993\" x2=\"525.5736835487428\" y2=\"22.499999999999318\" stroke-linecap=\"round\" style=\"stroke:white;stroke-width:4\"/><line x1=\"525.5736835487428\" y1=\"22.499999999999318\" x2=\"135.8622518457454\" y2=\"247.4999999999993\" stroke-linecap=\"round\" style=\"stroke:white;stroke-width:4\"/><line x1=\"135.8622518457454\" y1=\"247.4999999999993\" x2=\"529.903810567665\" y2=\"474.99999999999926\" stroke-linecap=\"round\" style=\"stroke:white;stroke-width:4\"/><line x1=\"529.903810567665\" y1=\"474.99999999999926\" x2=\"529.9038105676649\" y2=\"14.999999999999261\" stroke-linecap=\"round\" style=\"stroke:white;stroke-width:4\"/><line x1=\"529.9038105676649\" y1=\"14.999999999999261\" x2=\"127.20199780790091\" y2=\"247.49999999999923\" stroke-linecap=\"round\" style=\"stroke:white;stroke-width:4\"/><line x1=\"127.20199780790091\" y1=\"247.49999999999923\" x2=\"534.2339375865871\" y2=\"482.4999999999992\" stroke-linecap=\"round\" style=\"stroke:white;stroke-width:4\"/><line x1=\"534.2339375865871\" y1=\"482.4999999999992\" x2=\"534.233937586587\" y2=\"7.499999999999204\" stroke-linecap=\"round\" style=\"stroke:white;stroke-width:4\"/><line x1=\"534.233937586587\" y1=\"7.499999999999204\" x2=\"118.54174377005643\" y2=\"247.49999999999918\" stroke-linecap=\"round\" style=\"stroke:white;stroke-width:4\"/><line x1=\"118.54174377005643\" y1=\"247.49999999999918\" x2=\"538.5640646055092\" y2=\"489.99999999999915\" stroke-linecap=\"round\" style=\"stroke:white;stroke-width:4\"/><line x1=\"538.5640646055092\" y1=\"489.99999999999915\" x2=\"538.5640646055091\" y2=\"-8.526512829121202e-13\" stroke-linecap=\"round\" style=\"stroke:white;stroke-width:4\"/><line x1=\"538.5640646055091\" y1=\"-8.526512829121202e-13\" x2=\"109.88148973221195\" y2=\"247.49999999999912\" stroke-linecap=\"round\" style=\"stroke:white;stroke-width:4\"/>\n",
              "        \n",
              "      <g visibility=visible transform=\"rotate(-60,109.88148973221195,247.49999999999912) translate(109.88148973221195, 247.49999999999912)\">\n",
              "        <circle stroke=\"white\" stroke-width=\"3\" fill=\"transparent\" r=\"12\" cx=\"0\" cy=\"0\"/>\n",
              "        <polygon points=\"0,19 3,16 -3,16\" style=\"fill:white;stroke:white;stroke-width:2\"/>\n",
              "      </g>\n",
              "    \n",
              "      </svg>\n",
              "    "
            ],
            "text/plain": [
              "<IPython.core.display.HTML object>"
            ]
          },
          "metadata": {
            "tags": []
          }
        }
      ]
    },
    {
      "cell_type": "code",
      "metadata": {
        "id": "a-_THno1jEu1"
      },
      "source": [
        "# Free try for everyone  Name: ___________\n",
        "# Show off any interesting shape your created."
      ],
      "execution_count": null,
      "outputs": []
    }
  ]
}